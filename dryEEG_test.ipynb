{
 "cells": [
  {
   "cell_type": "code",
   "execution_count": 1,
   "metadata": {},
   "outputs": [
    {
     "ename": "ModuleNotFoundError",
     "evalue": "No module named 'pylsl'",
     "output_type": "error",
     "traceback": [
      "\u001b[0;31m---------------------------------------------------------------------------\u001b[0m",
      "\u001b[0;31mModuleNotFoundError\u001b[0m                       Traceback (most recent call last)",
      "\u001b[0;32m/var/folders/lc/7jpldjt16fq448x5ycffk_3c0000gn/T/ipykernel_3347/1065309638.py\u001b[0m in \u001b[0;36m<module>\u001b[0;34m\u001b[0m\n\u001b[0;32m----> 1\u001b[0;31m \u001b[0;32mfrom\u001b[0m \u001b[0mpylsl\u001b[0m \u001b[0;32mimport\u001b[0m \u001b[0mStreamInlet\u001b[0m\u001b[0;34m,\u001b[0m \u001b[0mresolve_stream\u001b[0m\u001b[0;34m\u001b[0m\u001b[0;34m\u001b[0m\u001b[0m\n\u001b[0m\u001b[1;32m      2\u001b[0m \u001b[0;32mimport\u001b[0m \u001b[0mmatplotlib\u001b[0m\u001b[0;34m.\u001b[0m\u001b[0mpyplot\u001b[0m \u001b[0;32mas\u001b[0m \u001b[0mplt\u001b[0m\u001b[0;34m\u001b[0m\u001b[0;34m\u001b[0m\u001b[0m\n\u001b[1;32m      3\u001b[0m \u001b[0;32mimport\u001b[0m \u001b[0mmne\u001b[0m\u001b[0;34m\u001b[0m\u001b[0;34m\u001b[0m\u001b[0m\n\u001b[1;32m      4\u001b[0m \u001b[0;32mfrom\u001b[0m \u001b[0mmne_realtime\u001b[0m \u001b[0;32mimport\u001b[0m \u001b[0mLSLClient\u001b[0m\u001b[0;34m\u001b[0m\u001b[0;34m\u001b[0m\u001b[0m\n\u001b[1;32m      5\u001b[0m \u001b[0;32mimport\u001b[0m \u001b[0mnumpy\u001b[0m \u001b[0;32mas\u001b[0m \u001b[0mnp\u001b[0m\u001b[0;34m\u001b[0m\u001b[0;34m\u001b[0m\u001b[0m\n",
      "\u001b[0;31mModuleNotFoundError\u001b[0m: No module named 'pylsl'"
     ]
    }
   ],
   "source": [
    "from pylsl import StreamInlet, resolve_stream\n",
    "import matplotlib.pyplot as plt\n",
    "import mne\n",
    "from mne_realtime import LSLClient\n",
    "import numpy as np\n",
    "\n",
    "wait_max = 5\n",
    "info = mne.create_info(ch_names = ['F7','Fp1', 'Fp2', 'F8','F3', 'Fz', 'F4', 'C3', 'Cz', 'P8', 'P7', 'Pz','P4', 'T3', 'P3', 'O1','O2', 'C4', 'T4'], \\\n",
    "                      sfreq=500, ch_types=\"eeg\")\n",
    "_, ax = plt.subplots(figsize=(10,8))\n",
    "with LSLClient(host=\"myuid323458\", info=info, wait_max=wait_max) as client:\n",
    "    client_info = client.get_measurement_info()\n",
    "    sfreq = int(client_info['sfreq'])\n",
    "    print(client_info)\n",
    "    plt.cla()\n",
    "    epoch = client.get_data_as_epoch(n_samples=500)\n",
    "    epoch.average().plot(axes=ax)\n",
    "    epoch.plot_psd(fmax=250)\n",
    "    plt.show()"
   ]
  }
 ],
 "metadata": {
  "kernelspec": {
   "display_name": "Python 3.9.7 ('base')",
   "language": "python",
   "name": "python3"
  },
  "language_info": {
   "codemirror_mode": {
    "name": "ipython",
    "version": 3
   },
   "file_extension": ".py",
   "mimetype": "text/x-python",
   "name": "python",
   "nbconvert_exporter": "python",
   "pygments_lexer": "ipython3",
   "version": "3.9.7"
  },
  "orig_nbformat": 4,
  "vscode": {
   "interpreter": {
    "hash": "3067ead486e059ec00ffe7555bdb889e6e264a24dc711bf108106cc7baee8d5d"
   }
  }
 },
 "nbformat": 4,
 "nbformat_minor": 2
}
