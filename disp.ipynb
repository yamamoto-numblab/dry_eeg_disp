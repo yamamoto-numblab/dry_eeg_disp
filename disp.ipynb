{
 "cells": [
  {
   "cell_type": "code",
   "execution_count": 1,
   "metadata": {},
   "outputs": [],
   "source": [
    "from re import A\n",
    "#import pyaudio\n",
    "import time\n",
    "import threading\n",
    "import datetime\n",
    "import cv2\n",
    "import numpy as np\n",
    "import winsound\n",
    "\n",
    "global A \n",
    "A = 0\n",
    "\n",
    "# p = pyaudio.PyAudio()\n",
    "# stream = p.open(format=pyaudio.paFloat32,\n",
    "#                 channels=1,\n",
    "#                 rate=44100,\n",
    "#                 frames_per_buffer=1024,\n",
    "#                 output=True)\n",
    "# samples = np.sin(np.arange(30))/5\n",
    "\n",
    "\n",
    "def worker():\n",
    "    global A\n",
    "    t_start = datetime.datetime.now().time()\n",
    "    for  i in range(6):\n",
    "        #stream.write(samples.astype(np.float32).tobytes())\n",
    "        winsound.Beep(440, 100)\n",
    "        time.sleep(0.89)\n",
    "    t_end = datetime.datetime.now().time()\n",
    "    A += 1\n",
    "    print(A,t_start,t_end)\n",
    "\n",
    "   \n",
    "   \n",
    "\n",
    "def schedule(interval, f, wait=True):\n",
    "    global A\n",
    "    base_time = time.time()\n",
    "    next_time = 0\n",
    "    while True:\n",
    "        t = threading.Thread(target=f)\n",
    "        t.start()\n",
    "        if wait:\n",
    "            t.join()\n",
    "        next_time = ((base_time - time.time()) % interval) or interval\n",
    "        time.sleep(next_time)\n",
    "        if A > 29 :\n",
    "            break\n",
    "time.sleep(5)\n",
    "schedule(6,worker)"
   ]
  }
 ],
 "metadata": {
  "kernelspec": {
   "display_name": "Python 3.9.7 ('base')",
   "language": "python",
   "name": "python3"
  },
  "language_info": {
   "codemirror_mode": {
    "name": "ipython",
    "version": 3
   },
   "file_extension": ".py",
   "mimetype": "text/x-python",
   "name": "python",
   "nbconvert_exporter": "python",
   "pygments_lexer": "ipython3",
   "version": "3.9.7"
  },
  "orig_nbformat": 4,
  "vscode": {
   "interpreter": {
    "hash": "c7128e48e345da2e2e89e1cddc0757c02258d47da469c5be88316b2da9c93278"
   }
  }
 },
 "nbformat": 4,
 "nbformat_minor": 2
}
