{
 "cells": [
  {
   "cell_type": "code",
   "execution_count": 3,
   "metadata": {},
   "outputs": [
    {
     "name": "stdout",
     "output_type": "stream",
     "text": [
      "1 19:07:01.031224 19:07:07.052774\n",
      "2 19:07:13.035542 19:07:19.058089\n",
      "3 19:07:25.036511 19:07:31.057602\n",
      "4 19:07:37.032357 19:07:43.051698\n",
      "5 19:07:49.031378 19:07:55.127624\n",
      "6 19:08:01.034907 19:08:07.048384\n",
      "7 19:08:13.034116 19:08:19.054299\n",
      "8 19:08:25.033766 19:08:31.051188\n",
      "9 19:08:37.036448 19:08:43.053436\n",
      "10 19:08:49.034998 19:08:55.055423\n",
      "11 19:09:01.036064 19:09:07.052526\n",
      "12 19:09:13.031253 19:09:19.044824\n",
      "13 19:09:25.033550 19:09:31.046200\n",
      "14 19:09:37.034680 19:09:43.051322\n",
      "15 19:09:49.036078 19:09:55.052121\n",
      "16 19:10:01.031728 19:10:07.052105\n",
      "17 19:10:13.035398 19:10:19.055449\n",
      "18 19:10:25.035468 19:10:31.068016\n",
      "19 19:10:37.035118 19:10:43.051312\n",
      "20 19:10:49.035167 19:10:55.056757\n",
      "21 19:11:01.034904 19:11:07.061669\n",
      "22 19:11:13.035647 19:11:19.052729\n",
      "23 19:11:25.034933 19:11:31.053793\n",
      "24 19:11:37.036788 19:11:43.053854\n",
      "25 19:11:49.035578 19:11:55.057380\n",
      "26 19:12:01.033768 19:12:07.045604\n",
      "27 19:12:13.033809 19:12:19.046606\n",
      "28 19:12:25.032287 19:12:31.040815\n",
      "29 19:12:37.034538 19:12:43.054137\n",
      "30 19:12:49.033871 19:12:55.056295\n"
     ]
    }
   ],
   "source": [
    "from re import A\n",
    "import pyaudio\n",
    "import time\n",
    "import threading\n",
    "import datetime\n",
    "import cv2\n",
    "import numpy as np\n",
    "\n",
    "global A \n",
    "A = 0\n",
    "\n",
    "p = pyaudio.PyAudio()\n",
    "stream = p.open(format=pyaudio.paFloat32,\n",
    "                channels=1,\n",
    "                rate=44100,\n",
    "                frames_per_buffer=1024,\n",
    "                output=True)\n",
    "samples = np.sin(np.arange(30))/5\n",
    "\n",
    "\n",
    "def worker():\n",
    "    global A\n",
    "    t_start = datetime.datetime.now().time()\n",
    "    for  i in range(6):\n",
    "        stream.write(samples.astype(np.float32).tobytes())\n",
    "        time.sleep(1)\n",
    "    t_end = datetime.datetime.now().time()\n",
    "    A += 1\n",
    "    print(A,t_start,t_end)\n",
    "\n",
    "   \n",
    "   \n",
    "\n",
    "def schedule(interval, f, wait=True):\n",
    "    global A\n",
    "    base_time = time.time()\n",
    "    next_time = 0\n",
    "    while True:\n",
    "        t = threading.Thread(target=f)\n",
    "        t.start()\n",
    "        if wait:\n",
    "            t.join()\n",
    "        next_time = ((base_time - time.time()) % interval) or interval\n",
    "        time.sleep(next_time)\n",
    "        if A > 29 :\n",
    "            break\n",
    "time.sleep(10)\n",
    "schedule(6,worker)"
   ]
  }
 ],
 "metadata": {
  "kernelspec": {
   "display_name": "Python 3.9.7 ('base')",
   "language": "python",
   "name": "python3"
  },
  "language_info": {
   "codemirror_mode": {
    "name": "ipython",
    "version": 3
   },
   "file_extension": ".py",
   "mimetype": "text/x-python",
   "name": "python",
   "nbconvert_exporter": "python",
   "pygments_lexer": "ipython3",
   "version": "3.9.7"
  },
  "orig_nbformat": 4,
  "vscode": {
   "interpreter": {
    "hash": "3067ead486e059ec00ffe7555bdb889e6e264a24dc711bf108106cc7baee8d5d"
   }
  }
 },
 "nbformat": 4,
 "nbformat_minor": 2
}
