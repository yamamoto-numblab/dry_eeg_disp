{
 "cells": [
  {
   "cell_type": "code",
   "execution_count": 1,
   "metadata": {},
   "outputs": [
    {
     "name": "stdout",
     "output_type": "stream",
     "text": [
      "1 01:05:53.741258 01:05:59.754470\n",
      "2 01:06:05.745084 01:06:11.762083\n",
      "3 01:06:17.746943 01:06:23.757489\n",
      "4 01:06:29.746002 01:06:35.754258\n",
      "5 01:06:41.744632 01:06:47.762908\n",
      "6 01:06:53.746536 01:06:59.769470\n",
      "7 01:07:05.743198 01:07:11.759574\n",
      "8 01:07:17.745715 01:07:23.752594\n",
      "9 01:07:29.745248 01:07:35.751201\n",
      "10 01:07:41.745402 01:07:47.763898\n",
      "11 01:07:53.745307 01:07:59.754282\n",
      "12 01:08:05.746220 01:08:11.765248\n",
      "13 01:08:17.745922 01:08:23.763493\n",
      "14 01:08:29.746338 01:08:35.756691\n",
      "15 01:08:41.742298 01:08:47.756764\n",
      "16 01:08:53.746853 01:08:59.775886\n",
      "17 01:09:05.751744 01:09:11.808359\n",
      "18 01:09:17.751770 01:09:23.805986\n",
      "19 01:09:29.741416 01:09:35.770395\n",
      "20 01:09:41.743979 01:09:47.765785\n",
      "21 01:09:53.742784 01:09:59.789134\n",
      "22 01:10:05.751755 01:10:11.803938\n",
      "23 01:10:17.746547 01:10:23.805599\n",
      "24 01:10:29.751688 01:10:35.801800\n",
      "25 01:10:41.746799 01:10:47.793129\n",
      "26 01:10:53.745989 01:10:59.788805\n",
      "27 01:11:05.751676 01:11:11.813917\n",
      "28 01:11:17.751638 01:11:23.799793\n",
      "29 01:11:29.743255 01:11:35.794787\n",
      "30 01:11:41.748400 01:11:47.797332\n"
     ]
    }
   ],
   "source": [
    "from re import A\n",
    "import pyaudio\n",
    "import time\n",
    "import threading\n",
    "import datetime\n",
    "import cv2\n",
    "import numpy as np\n",
    "\n",
    "global A \n",
    "A = 0\n",
    "\n",
    "p = pyaudio.PyAudio()\n",
    "stream = p.open(format=pyaudio.paFloat32,\n",
    "                channels=1,\n",
    "                rate=44100,\n",
    "                frames_per_buffer=1024,\n",
    "                output=True)\n",
    "samples = np.sin(np.arange(30))/5\n",
    "\n",
    "\n",
    "def worker():\n",
    "    global A\n",
    "    t_start = datetime.datetime.now().time()\n",
    "    for  i in range(6):\n",
    "        stream.write(samples.astype(np.float32).tobytes())\n",
    "        time.sleep(1)\n",
    "    t_end = datetime.datetime.now().time()\n",
    "    A += 1\n",
    "    print(A,t_start,t_end)\n",
    "\n",
    "   \n",
    "   \n",
    "\n",
    "def schedule(interval, f, wait=True):\n",
    "    global A\n",
    "    base_time = time.time()\n",
    "    next_time = 0\n",
    "    while True:\n",
    "        t = threading.Thread(target=f)\n",
    "        t.start()\n",
    "        if wait:\n",
    "            t.join()\n",
    "        next_time = ((base_time - time.time()) % interval) or interval\n",
    "        time.sleep(next_time)\n",
    "        if A > 29 :\n",
    "            break\n",
    "time.sleep(10)\n",
    "schedule(6,worker)"
   ]
  }
 ],
 "metadata": {
  "kernelspec": {
   "display_name": "Python 3.9.7 ('base')",
   "language": "python",
   "name": "python3"
  },
  "language_info": {
   "codemirror_mode": {
    "name": "ipython",
    "version": 3
   },
   "file_extension": ".py",
   "mimetype": "text/x-python",
   "name": "python",
   "nbconvert_exporter": "python",
   "pygments_lexer": "ipython3",
   "version": "3.9.7"
  },
  "orig_nbformat": 4,
  "vscode": {
   "interpreter": {
    "hash": "3067ead486e059ec00ffe7555bdb889e6e264a24dc711bf108106cc7baee8d5d"
   }
  }
 },
 "nbformat": 4,
 "nbformat_minor": 2
}
