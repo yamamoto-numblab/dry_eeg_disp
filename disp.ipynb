{
 "cells": [
  {
   "cell_type": "code",
   "execution_count": 1,
   "metadata": {},
   "outputs": [
    {
     "name": "stdout",
     "output_type": "stream",
     "text": [
      "22:28:50.691767\n",
      "22:29:00.699987\n"
     ]
    }
   ],
   "source": [
    "import time\n",
    "import threading\n",
    "import datetime\n",
    "import cv2\n",
    "\n",
    "png = \"sam.png\"\n",
    "\n",
    "def disp_subject(png_name):\n",
    "    img = cv2.imread(png_name)\n",
    "    cv2.namedWindow('screen', cv2.WINDOW_NORMAL)\n",
    "    cv2.setWindowProperty('screen', cv2.WND_PROP_FULLSCREEN, cv2.WINDOW_FULLSCREEN)\n",
    "    cv2.imshow('screen', img)\n",
    "    cv2.waitKey(1000)\n",
    "    cv2.destroyAllWindows()\n",
    "    \n",
    "\n",
    "\n",
    "def worker():\n",
    "    t_now = datetime.datetime.now().time()\n",
    "    print(t_now)\n",
    "    disp_subject(png)\n",
    "    time.sleep(3)\n",
    "   \n",
    "\n",
    "def schedule(interval, f, wait=True):\n",
    "    base_time = time.time()\n",
    "    next_time = 0\n",
    "    while True:\n",
    "        t = threading.Thread(target=f)\n",
    "        t.start()\n",
    "        if wait:\n",
    "            t.join()\n",
    "        next_time = ((base_time - time.time()) % interval) or interval\n",
    "        time.sleep(next_time)\n",
    "schedule(5,worker)"
   ]
  }
 ],
 "metadata": {
  "kernelspec": {
   "display_name": "Python 3.9.7 ('base')",
   "language": "python",
   "name": "python3"
  },
  "language_info": {
   "codemirror_mode": {
    "name": "ipython",
    "version": 3
   },
   "file_extension": ".py",
   "mimetype": "text/x-python",
   "name": "python",
   "nbconvert_exporter": "python",
   "pygments_lexer": "ipython3",
   "version": "3.9.7"
  },
  "orig_nbformat": 4,
  "vscode": {
   "interpreter": {
    "hash": "c7128e48e345da2e2e89e1cddc0757c02258d47da469c5be88316b2da9c93278"
   }
  }
 },
 "nbformat": 4,
 "nbformat_minor": 2
}
