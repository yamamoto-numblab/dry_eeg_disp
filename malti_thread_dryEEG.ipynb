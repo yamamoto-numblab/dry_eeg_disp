{
 "cells": [
  {
   "cell_type": "code",
   "execution_count": 1,
   "metadata": {},
   "outputs": [
    {
     "ename": "ModuleNotFoundError",
     "evalue": "No module named 'pylsl'",
     "output_type": "error",
     "traceback": [
      "\u001b[0;31m---------------------------------------------------------------------------\u001b[0m",
      "\u001b[0;31mModuleNotFoundError\u001b[0m                       Traceback (most recent call last)",
      "\u001b[0;32m/var/folders/lc/7jpldjt16fq448x5ycffk_3c0000gn/T/ipykernel_7605/293796713.py\u001b[0m in \u001b[0;36m<module>\u001b[0;34m\u001b[0m\n\u001b[1;32m      2\u001b[0m \u001b[0;34m\u001b[0m\u001b[0m\n\u001b[1;32m      3\u001b[0m \u001b[0;32mfrom\u001b[0m \u001b[0mtkinter\u001b[0m \u001b[0;32mimport\u001b[0m \u001b[0mY\u001b[0m\u001b[0;34m\u001b[0m\u001b[0;34m\u001b[0m\u001b[0m\n\u001b[0;32m----> 4\u001b[0;31m \u001b[0;32mfrom\u001b[0m \u001b[0mpylsl\u001b[0m \u001b[0;32mimport\u001b[0m \u001b[0mStreamInlet\u001b[0m\u001b[0;34m,\u001b[0m \u001b[0mresolve_stream\u001b[0m\u001b[0;34m\u001b[0m\u001b[0;34m\u001b[0m\u001b[0m\n\u001b[0m\u001b[1;32m      5\u001b[0m \u001b[0;32mimport\u001b[0m \u001b[0mtime\u001b[0m\u001b[0;34m\u001b[0m\u001b[0;34m\u001b[0m\u001b[0m\n\u001b[1;32m      6\u001b[0m \u001b[0;32mimport\u001b[0m \u001b[0mnumpy\u001b[0m \u001b[0;32mas\u001b[0m \u001b[0mnp\u001b[0m\u001b[0;34m\u001b[0m\u001b[0;34m\u001b[0m\u001b[0m\n",
      "\u001b[0;31mModuleNotFoundError\u001b[0m: No module named 'pylsl'"
     ]
    }
   ],
   "source": [
    "\"\"\"Example program to show how to read a multi-channel time series from LSL.\"\"\"\n",
    "\n",
    "from tkinter import Y\n",
    "from pylsl import StreamInlet, resolve_stream\n",
    "import time\n",
    "import numpy as np\n",
    "import matplotlib.pyplot as plt\n",
    "import threading"
   ]
  },
  {
   "cell_type": "code",
   "execution_count": null,
   "metadata": {},
   "outputs": [],
   "source": [
    "def eeg_record():\n",
    "    # first resolve an EEG stream on the lab network\n",
    "    print(\"looking for an EEG stream...\")\n",
    "    streams = resolve_stream('type', 'EEG')\n",
    "    \n",
    "    # create a new inlet to read from the stream\n",
    "    inlet = StreamInlet(streams[0])\n",
    "\n",
    "    while True:\n",
    "        # get a new sample (you can also omit the timestamp part if you're not\n",
    "        # interested in it)\n",
    "        sample, timestamp = inlet.pull_sample()\n",
    "        print(\"%.5f\" % timestamp, end=\"\")\n",
    "        print(\"\")\n",
    "        \n",
    "        print(timestamp, sample)\n",
    "        time.sleep(1);"
   ]
  },
  {
   "cell_type": "code",
   "execution_count": null,
   "metadata": {},
   "outputs": [],
   "source": [
    "def subject_disp():\n",
    "    i = 1"
   ]
  },
  {
   "cell_type": "code",
   "execution_count": null,
   "metadata": {},
   "outputs": [],
   "source": [
    "if __name__ == '__main__':\n",
    "    thread_1 = threading.Thread(target=eeg_record)\n",
    "    thread_2 = threading.Thread(target=subject_disp)\n",
    "\n",
    "    thread_1.start()\n",
    "    thread_2.start()"
   ]
  }
 ],
 "metadata": {
  "kernelspec": {
   "display_name": "Python 3.9.7 ('base')",
   "language": "python",
   "name": "python3"
  },
  "language_info": {
   "codemirror_mode": {
    "name": "ipython",
    "version": 3
   },
   "file_extension": ".py",
   "mimetype": "text/x-python",
   "name": "python",
   "nbconvert_exporter": "python",
   "pygments_lexer": "ipython3",
   "version": "3.9.7"
  },
  "orig_nbformat": 4,
  "vscode": {
   "interpreter": {
    "hash": "3067ead486e059ec00ffe7555bdb889e6e264a24dc711bf108106cc7baee8d5d"
   }
  }
 },
 "nbformat": 4,
 "nbformat_minor": 2
}
