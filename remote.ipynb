{
 "cells": [
  {
   "cell_type": "code",
   "execution_count": 1,
   "metadata": {},
   "outputs": [],
   "source": [
    "\"\"\"Example program to show how to read a multi-channel time series from LSL.\"\"\"\n",
    "\n",
    "from tkinter import Y\n",
    "from pylsl import StreamInlet, resolve_stream\n",
    "import time\n",
    "import numpy as np\n",
    "import matplotlib.pyplot as plt"
   ]
  },
  {
   "cell_type": "code",
   "execution_count": 2,
   "metadata": {},
   "outputs": [],
   "source": [
    "def main():\n",
    "    # first resolve an EEG stream on the lab network\n",
    "    print(\"looking for an EEG stream...\")\n",
    "    streams = resolve_stream('type', 'EEG')\n",
    "    \n",
    "    # create a new inlet to read from the stream\n",
    "    inlet = StreamInlet(streams[0])\n",
    "\n",
    "    while True:\n",
    "        # get a new sample (you can also omit the timestamp part if you're not\n",
    "        # interested in it)\n",
    "        sample, timestamp = inlet.pull_sample()\n",
    "        print(\"%.5f\" % timestamp, end=\"\")\n",
    "        print(\"\")\n",
    "        \n",
    "        print(timestamp, sample)\n",
    "        time.sleep(1);"
   ]
  },
  {
   "cell_type": "code",
   "execution_count": 3,
   "metadata": {},
   "outputs": [
    {
     "name": "stdout",
     "output_type": "stream",
     "text": [
      "looking for an EEG stream...\n"
     ]
    }
   ],
   "source": [
    "if __name__ == '__main__':\n",
    "    main()"
   ]
  }
 ],
 "metadata": {
  "kernelspec": {
   "display_name": "Python 3.9.7 ('base')",
   "language": "python",
   "name": "python3"
  },
  "language_info": {
   "codemirror_mode": {
    "name": "ipython",
    "version": 3
   },
   "file_extension": ".py",
   "mimetype": "text/x-python",
   "name": "python",
   "nbconvert_exporter": "python",
   "pygments_lexer": "ipython3",
   "version": "3.9.7"
  },
  "orig_nbformat": 4,
  "vscode": {
   "interpreter": {
    "hash": "c7128e48e345da2e2e89e1cddc0757c02258d47da469c5be88316b2da9c93278"
   }
  }
 },
 "nbformat": 4,
 "nbformat_minor": 2
}
